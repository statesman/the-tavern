{
 "cells": [
  {
   "cell_type": "markdown",
   "metadata": {},
   "source": [
    "# The Tavern alcohol sales\n",
    "\n",
    "A quick look at alcohol sales by The Tavern, as reported to the Texas Comptroler.\n",
    "\n",
    "The long-time Austin institution has been [put up for sale by its owners](http://www.austin360.com/entertainment/longtime-austin-bar-the-tavern-now-for-sale-but-might-not-change-much/0Nwy3ifTfq0mzn5NOyiKYJ/).\n",
    "\n",
    "The data was downloaded from [data.texas.gov](https://data.texas.gov/Government-and-Taxes/Mixed-Beverage-Gross-Receipts/naix-2893), filtering on the `location_address` of \"922 W 12TH ST\".\n",
    "\n",
    "This data was pulled on 12/22/2018 for this story, and receipts for 2017 were only up to date through October 2017.\n",
    "\n",
    "This notebook should be fully repeatable by downloading this repo, then using a python virtual environment (requirements.txt included) to run the code using [Jupyter](http://jupyter.org/)."
   ]
  },
  {
   "cell_type": "code",
   "execution_count": 1,
   "metadata": {
    "collapsed": false
   },
   "outputs": [
    {
     "name": "stderr",
     "output_type": "stream",
     "text": [
      "  % Total    % Received % Xferd  Average Speed   Time    Time     Time  Current\n",
      "                                 Dload  Upload   Total   Spent    Left  Speed\n",
      "\r",
      "  0     0    0     0    0     0      0      0 --:--:-- --:--:-- --:--:--     0\r",
      "  0     0    0     0    0     0      0      0 --:--:-- --:--:-- --:--:--     0\r",
      "100 34891    0 34891    0     0  96428      0 --:--:-- --:--:-- --:--:-- 96383\n"
     ]
    }
   ],
   "source": [
    "%%bash\n",
    "# download the file\n",
    "curl -L -o ../data-orig/the-tavern.csv \\\n",
    "https://data.texas.gov/resource/fp9t-htqh.csv?Location%20Address=922%20W%2012TH%20ST"
   ]
  },
  {
   "cell_type": "code",
   "execution_count": 2,
   "metadata": {
    "collapsed": true
   },
   "outputs": [],
   "source": [
    "import agate"
   ]
  },
  {
   "cell_type": "code",
   "execution_count": 3,
   "metadata": {
    "collapsed": true
   },
   "outputs": [],
   "source": [
    "# This is the source file that was just downloaded\n",
    "file = '../data-orig/the-tavern.csv'"
   ]
  },
  {
   "cell_type": "code",
   "execution_count": 4,
   "metadata": {
    "collapsed": false
   },
   "outputs": [
    {
     "name": "stdout",
     "output_type": "stream",
     "text": [
      "| column                             | data_type |\n",
      "| ---------------------------------- | --------- |\n",
      "| beer_receipts                      | Number    |\n",
      "| cover_charge_receipts              | Number    |\n",
      "| tabc_permit                        | Text      |\n",
      "| liquor_receipts                    | Number    |\n",
      "| location_address                   | Text      |\n",
      "| location_city                      | Text      |\n",
      "| location_county                    | Text      |\n",
      "| location_name                      | Text      |\n",
      "| location_number                    | Text      |\n",
      "| location_state                     | Text      |\n",
      "| location_zip                       | Text      |\n",
      "| obligation_end_date_yyyymmdd       | DateTime  |\n",
      "| responsibility_begin_date_yyyymmdd | DateTime  |\n",
      "| responsibility_end_date_yyyymmdd   | DateTime  |\n",
      "| inside_outside_city_limits_code    | Boolean   |\n",
      "| taxpayer_address                   | Text      |\n",
      "| taxpayer_city                      | Text      |\n",
      "| taxpayer_county                    | Text      |\n",
      "| taxpayer_name                      | Text      |\n",
      "| taxpayer_number                    | Text      |\n",
      "| taxpayer_state                     | Text      |\n",
      "| taxpayer_zip                       | Text      |\n",
      "| total_receipts                     | Number    |\n",
      "| wine_receipts                      | Number    |\n",
      "\n",
      "Number of records: 131\n"
     ]
    }
   ],
   "source": [
    "#Helps us import some text fields that may be considered numbers in error.\n",
    "specified_types = {\n",
    "    'cover_charge_receipts': agate.Number(),\n",
    "    'taxpayer_number': agate.Text(),\n",
    "    'taxpayer_zip': agate.Text(),\n",
    "    'taxpayer_county': agate.Text(),\n",
    "    'location_number': agate.Text(),\n",
    "    'location_address': agate.Text(),\n",
    "    'location_zip': agate.Text(),\n",
    "    'location_county': agate.Text(),\n",
    "}\n",
    "\n",
    "# this imports the file specified above, along with the proper types\n",
    "data = agate.Table.from_csv(file, column_types=specified_types)\n",
    "\n",
    "# renames two columns that are labelled incorrectly from original data\n",
    "tavern = data.rename(column_names = {\n",
    "        'tabc_permit_number': 'inside_outside_city_limits_code',\n",
    "        'inside_outside_city_limits_code_y_n': 'tabc_permit',\n",
    "    }\n",
    ")\n",
    "\n",
    "# prints table fields so we an check thoes data types\n",
    "print(tavern)\n",
    "print('Number of records: {}'.format(len(tavern)))"
   ]
  },
  {
   "cell_type": "code",
   "execution_count": 5,
   "metadata": {
    "collapsed": false
   },
   "outputs": [
    {
     "name": "stdout",
     "output_type": "stream",
     "text": [
      "All permutations of the address in data:\n",
      "('922 W 12TH ST',)\n",
      "All permutations of the name in data:\n",
      "('THE TAVERN', 'TAVERN')\n"
     ]
    }
   ],
   "source": [
    "# showing there is only on location_address\n",
    "print('All permutations of the address in data:')\n",
    "print(tavern.columns['location_address'].values_distinct())\n",
    "print('All permutations of the name in data:')\n",
    "print(tavern.columns['location_name'].values_distinct())"
   ]
  },
  {
   "cell_type": "code",
   "execution_count": 6,
   "metadata": {
    "collapsed": true
   },
   "outputs": [],
   "source": [
    "# create some date-related columns for grouping\n",
    "tavern = tavern.compute([\n",
    "        ('year', agate.Formula(agate.Text(), lambda r: r['obligation_end_date_yyyymmdd'].year)),\n",
    "        ('month', agate.Formula(agate.Text(), lambda r: r['obligation_end_date_yyyymmdd'].month))\n",
    "    ], replace=True)"
   ]
  },
  {
   "cell_type": "code",
   "execution_count": 7,
   "metadata": {
    "collapsed": true
   },
   "outputs": [],
   "source": [
    "# Group by year so we can sum them\n",
    "tavern_year = tavern.group_by('year')\n",
    "\n",
    "# Create an aggregation of Total Receipts\n",
    "tavern_year_sums = tavern_year.aggregate([\n",
    "        ('total', agate.Sum('total_receipts'))\n",
    "    ])\n",
    "\n",
    "# ordering rows for pretty chart\n",
    "tavern_year_ordered = tavern_year_sums.order_by('year')\n"
   ]
  },
  {
   "cell_type": "code",
   "execution_count": 8,
   "metadata": {
    "collapsed": false
   },
   "outputs": [
    {
     "name": "stdout",
     "output_type": "stream",
     "text": [
      "year   total\n",
      "2007 945,796 ▓░░░░░░░░░░░░░░░░░░░░░░░░░░░░░░░░░░░░░░░░░░░░░░░░░░░░░░░░░░░░░░    \n",
      "2008 859,701 ▓░░░░░░░░░░░░░░░░░░░░░░░░░░░░░░░░░░░░░░░░░░░░░░░░░░░░░░░░░         \n",
      "2009 706,290 ▓░░░░░░░░░░░░░░░░░░░░░░░░░░░░░░░░░░░░░░░░░░░░░░░                   \n",
      "2010 776,630 ▓░░░░░░░░░░░░░░░░░░░░░░░░░░░░░░░░░░░░░░░░░░░░░░░░░░░               \n",
      "2011 881,739 ▓░░░░░░░░░░░░░░░░░░░░░░░░░░░░░░░░░░░░░░░░░░░░░░░░░░░░░░░░░░        \n",
      "2012 960,378 ▓░░░░░░░░░░░░░░░░░░░░░░░░░░░░░░░░░░░░░░░░░░░░░░░░░░░░░░░░░░░░░░░   \n",
      "2013 874,131 ▓░░░░░░░░░░░░░░░░░░░░░░░░░░░░░░░░░░░░░░░░░░░░░░░░░░░░░░░░░░        \n",
      "2014 841,802 ▓░░░░░░░░░░░░░░░░░░░░░░░░░░░░░░░░░░░░░░░░░░░░░░░░░░░░░░░░          \n",
      "2015 734,081 ▓░░░░░░░░░░░░░░░░░░░░░░░░░░░░░░░░░░░░░░░░░░░░░░░░                  \n",
      "2016 622,976 ▓░░░░░░░░░░░░░░░░░░░░░░░░░░░░░░░░░░░░░░░░░                         \n",
      "2017 487,529 ▓░░░░░░░░░░░░░░░░░░░░░░░░░░░░░░░░                                  \n",
      "             +---------------+----------------+----------------+---------------+\n",
      "             0            250,000          500,000          750,000    1,000,000\n"
     ]
    }
   ],
   "source": [
    "# print chart\n",
    "tavern_year_ordered.print_bars('year', 'total', width=80)"
   ]
  },
  {
   "cell_type": "markdown",
   "metadata": {
    "collapsed": true
   },
   "source": [
    "## Conclusion\n",
    "At the time this report, 2016 was the lowest full year in total alcohol receipts reported to the Comptroller since 2007."
   ]
  },
  {
   "cell_type": "code",
   "execution_count": null,
   "metadata": {
    "collapsed": true
   },
   "outputs": [],
   "source": []
  }
 ],
 "metadata": {
  "kernelspec": {
   "display_name": "Python 3",
   "language": "python",
   "name": "python3"
  },
  "language_info": {
   "codemirror_mode": {
    "name": "ipython",
    "version": 3
   },
   "file_extension": ".py",
   "mimetype": "text/x-python",
   "name": "python",
   "nbconvert_exporter": "python",
   "pygments_lexer": "ipython3",
   "version": "3.5.1"
  }
 },
 "nbformat": 4,
 "nbformat_minor": 1
}
